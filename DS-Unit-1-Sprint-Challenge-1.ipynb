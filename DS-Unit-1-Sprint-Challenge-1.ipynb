{
  "nbformat": 4,
  "nbformat_minor": 0,
  "metadata": {
    "colab": {
      "name": "DS Unit 1 Sprint Challenge 1.ipynb",
      "version": "0.3.2",
      "provenance": [],
      "collapsed_sections": [],
      "include_colab_link": true
    },
    "kernelspec": {
      "name": "python3",
      "display_name": "Python 3"
    }
  },
  "cells": [
    {
      "cell_type": "markdown",
      "metadata": {
        "id": "view-in-github",
        "colab_type": "text"
      },
      "source": [
        "<a href=\"https://colab.research.google.com/github/MrT3313/DS-Unit-1-Sprint-1-Dealing-With-Data/blob/master/DS-Unit-1-Sprint-Challenge-1.ipynb\" target=\"_parent\"><img src=\"https://colab.research.google.com/assets/colab-badge.svg\" alt=\"Open In Colab\"/></a>"
      ]
    },
    {
      "cell_type": "markdown",
      "metadata": {
        "id": "NooAiTdnafkz",
        "colab_type": "text"
      },
      "source": [
        "# Data Science Unit 1 Sprint Challenge 1\n",
        "\n",
        "## Loading, cleaning, visualizing, and analyzing data\n",
        "\n",
        "In this sprint challenge you will look at a dataset of the survival of patients who underwent surgery for breast cancer.\n",
        "\n",
        "http://archive.ics.uci.edu/ml/datasets/Haberman%27s+Survival\n",
        "\n",
        "Data Set Information:\n",
        "The dataset contains cases from a study that was conducted between 1958 and 1970 at the University of Chicago's Billings Hospital on the survival of patients who had undergone surgery for breast cancer.\n",
        "\n",
        "Attribute Information:\n",
        "1. Age of patient at time of operation (numerical)\n",
        "2. Patient's year of operation (year - 1900, numerical)\n",
        "3. Number of positive axillary nodes detected (numerical)\n",
        "4. Survival status (class attribute)\n",
        "-- 1 = the patient survived 5 years or longer\n",
        "-- 2 = the patient died within 5 year\n",
        "\n",
        "Sprint challenges are evaluated based on satisfactory completion of each part. It is suggested you work through it in order, getting each aspect reasonably working, before trying to deeply explore, iterate, or refine any given step. Once you get to the end, if you want to go back and improve things, go for it!"
      ]
    },
    {
      "cell_type": "markdown",
      "metadata": {
        "id": "5wch6ksCbJtZ",
        "colab_type": "text"
      },
      "source": [
        "## Part 1 - Load and validate the data\n",
        "\n",
        "- Load the data as a `pandas` data frame.\n",
        "- Validate that it has the appropriate number of observations (you can check the raw file, and also read the dataset description from UCI).\n",
        "- Validate that you have no missing values.\n",
        "- Add informative names to the features.\n",
        "- The survival variable is encoded as 1 for surviving >5 years and 2 for not - change this to be 0 for not surviving and 1 for surviving >5 years (0/1 is a more traditional encoding of binary variables)\n",
        "\n",
        "At the end, print the first five rows of the dataset to demonstrate the above."
      ]
    },
    {
      "cell_type": "code",
      "metadata": {
        "id": "287TpoGKFRVK",
        "colab_type": "code",
        "colab": {}
      },
      "source": [
        "# TODO"
      ],
      "execution_count": 0,
      "outputs": []
    },
    {
      "cell_type": "code",
      "metadata": {
        "id": "Mdk2jKZqoLfw",
        "colab_type": "code",
        "colab": {}
      },
      "source": [
        "# IMPORTS\n",
        "import pandas as pd\n",
        "import matplotlib.pyplot as plt\n",
        "import seaborn as sns\n",
        "\n",
        "pd.set_option('display.max_rows', 500)\n",
        "pd.set_option('display.max_columns', 500)"
      ],
      "execution_count": 0,
      "outputs": []
    },
    {
      "cell_type": "markdown",
      "metadata": {
        "id": "tUGkhgCasWyw",
        "colab_type": "text"
      },
      "source": [
        "## Part 1: Answers"
      ]
    },
    {
      "cell_type": "code",
      "metadata": {
        "id": "vGlowcy1oMWe",
        "colab_type": "code",
        "colab": {}
      },
      "source": [
        "# 1 # - Patient Data Url\n",
        "\n",
        "patient_data_url = 'http://archive.ics.uci.edu/ml/machine-learning-databases/haberman/haberman.data'\n",
        "\n",
        "# - Inspect Data w/ !curl\n",
        "!curl http://archive.ics.uci.edu/ml/machine-learning-databases/haberman/haberman.data"
      ],
      "execution_count": 0,
      "outputs": []
    },
    {
      "cell_type": "code",
      "metadata": {
        "id": "hhB4540Go7MX",
        "colab_type": "code",
        "colab": {
          "base_uri": "https://localhost:8080/",
          "height": 204
        },
        "outputId": "6b9d99d0-7ef7-4321-b55a-7c51283054c1"
      },
      "source": [
        "# 2 # - Load Data as a pandas dataFrame\n",
        "patient_data = pd.read_csv(patient_data_url)\n",
        "patient_data.head()"
      ],
      "execution_count": 4,
      "outputs": [
        {
          "output_type": "execute_result",
          "data": {
            "text/html": [
              "<div>\n",
              "<style scoped>\n",
              "    .dataframe tbody tr th:only-of-type {\n",
              "        vertical-align: middle;\n",
              "    }\n",
              "\n",
              "    .dataframe tbody tr th {\n",
              "        vertical-align: top;\n",
              "    }\n",
              "\n",
              "    .dataframe thead th {\n",
              "        text-align: right;\n",
              "    }\n",
              "</style>\n",
              "<table border=\"1\" class=\"dataframe\">\n",
              "  <thead>\n",
              "    <tr style=\"text-align: right;\">\n",
              "      <th></th>\n",
              "      <th>30</th>\n",
              "      <th>64</th>\n",
              "      <th>1</th>\n",
              "      <th>1.1</th>\n",
              "    </tr>\n",
              "  </thead>\n",
              "  <tbody>\n",
              "    <tr>\n",
              "      <th>0</th>\n",
              "      <td>30</td>\n",
              "      <td>62</td>\n",
              "      <td>3</td>\n",
              "      <td>1</td>\n",
              "    </tr>\n",
              "    <tr>\n",
              "      <th>1</th>\n",
              "      <td>30</td>\n",
              "      <td>65</td>\n",
              "      <td>0</td>\n",
              "      <td>1</td>\n",
              "    </tr>\n",
              "    <tr>\n",
              "      <th>2</th>\n",
              "      <td>31</td>\n",
              "      <td>59</td>\n",
              "      <td>2</td>\n",
              "      <td>1</td>\n",
              "    </tr>\n",
              "    <tr>\n",
              "      <th>3</th>\n",
              "      <td>31</td>\n",
              "      <td>65</td>\n",
              "      <td>4</td>\n",
              "      <td>1</td>\n",
              "    </tr>\n",
              "    <tr>\n",
              "      <th>4</th>\n",
              "      <td>33</td>\n",
              "      <td>58</td>\n",
              "      <td>10</td>\n",
              "      <td>1</td>\n",
              "    </tr>\n",
              "  </tbody>\n",
              "</table>\n",
              "</div>"
            ],
            "text/plain": [
              "   30  64   1  1.1\n",
              "0  30  62   3    1\n",
              "1  30  65   0    1\n",
              "2  31  59   2    1\n",
              "3  31  65   4    1\n",
              "4  33  58  10    1"
            ]
          },
          "metadata": {
            "tags": []
          },
          "execution_count": 4
        }
      ]
    },
    {
      "cell_type": "code",
      "metadata": {
        "id": "Je3cvcZrp5Ai",
        "colab_type": "code",
        "colab": {}
      },
      "source": [
        "# 3 # - Initial Data Manipulation / Setup \n",
        "\n",
        "column_headers = [\n",
        "  'age',\n",
        "  'operation_year',\n",
        "  'positive_axillary_nodes',\n",
        "  'survival_status'\n",
        "]\n",
        "\n",
        "# age = INTEGER\n",
        "# operation_year = INTEGER\n",
        "# positive axillary nodes = INTEGER\n",
        "# survival_status: 1 = survived >= 5 years / 2 = died in <= 5 years"
      ],
      "execution_count": 0,
      "outputs": []
    },
    {
      "cell_type": "code",
      "metadata": {
        "id": "E9fxSP2gq-CS",
        "colab_type": "code",
        "colab": {
          "base_uri": "https://localhost:8080/",
          "height": 204
        },
        "outputId": "92e23263-1f1a-4b11-c7a0-11057a9b0785"
      },
      "source": [
        "# 4 # - Apply Initial Data Manipulation / Setup to dataFrame\n",
        "\n",
        "patient_data = pd.read_csv(patient_data_url, names=column_headers)\n",
        "patient_data.head()"
      ],
      "execution_count": 6,
      "outputs": [
        {
          "output_type": "execute_result",
          "data": {
            "text/html": [
              "<div>\n",
              "<style scoped>\n",
              "    .dataframe tbody tr th:only-of-type {\n",
              "        vertical-align: middle;\n",
              "    }\n",
              "\n",
              "    .dataframe tbody tr th {\n",
              "        vertical-align: top;\n",
              "    }\n",
              "\n",
              "    .dataframe thead th {\n",
              "        text-align: right;\n",
              "    }\n",
              "</style>\n",
              "<table border=\"1\" class=\"dataframe\">\n",
              "  <thead>\n",
              "    <tr style=\"text-align: right;\">\n",
              "      <th></th>\n",
              "      <th>age</th>\n",
              "      <th>operation_year</th>\n",
              "      <th>positive_axillary_nodes</th>\n",
              "      <th>survival_status</th>\n",
              "    </tr>\n",
              "  </thead>\n",
              "  <tbody>\n",
              "    <tr>\n",
              "      <th>0</th>\n",
              "      <td>30</td>\n",
              "      <td>64</td>\n",
              "      <td>1</td>\n",
              "      <td>1</td>\n",
              "    </tr>\n",
              "    <tr>\n",
              "      <th>1</th>\n",
              "      <td>30</td>\n",
              "      <td>62</td>\n",
              "      <td>3</td>\n",
              "      <td>1</td>\n",
              "    </tr>\n",
              "    <tr>\n",
              "      <th>2</th>\n",
              "      <td>30</td>\n",
              "      <td>65</td>\n",
              "      <td>0</td>\n",
              "      <td>1</td>\n",
              "    </tr>\n",
              "    <tr>\n",
              "      <th>3</th>\n",
              "      <td>31</td>\n",
              "      <td>59</td>\n",
              "      <td>2</td>\n",
              "      <td>1</td>\n",
              "    </tr>\n",
              "    <tr>\n",
              "      <th>4</th>\n",
              "      <td>31</td>\n",
              "      <td>65</td>\n",
              "      <td>4</td>\n",
              "      <td>1</td>\n",
              "    </tr>\n",
              "  </tbody>\n",
              "</table>\n",
              "</div>"
            ],
            "text/plain": [
              "   age  operation_year  positive_axillary_nodes  survival_status\n",
              "0   30              64                        1                1\n",
              "1   30              62                        3                1\n",
              "2   30              65                        0                1\n",
              "3   31              59                        2                1\n",
              "4   31              65                        4                1"
            ]
          },
          "metadata": {
            "tags": []
          },
          "execution_count": 6
        }
      ]
    },
    {
      "cell_type": "code",
      "metadata": {
        "id": "xnKg9E_R4NwY",
        "colab_type": "code",
        "colab": {}
      },
      "source": [
        "# - Change 'survival_status' to CATEGORICAL from INTEGER\n",
        "# patient_data['survival_status'] = patient_data['survival_status'].astype('category') "
      ],
      "execution_count": 0,
      "outputs": []
    },
    {
      "cell_type": "code",
      "metadata": {
        "id": "J-qjaKuQpXox",
        "colab_type": "code",
        "colab": {
          "base_uri": "https://localhost:8080/",
          "height": 357
        },
        "outputId": "3ecfeefa-159a-454b-9fcc-b1323142a46e"
      },
      "source": [
        "# - Initial Data Exploration\n",
        "\n",
        "## Validate number of observations -- should be 306\n",
        "print(patient_data.shape)\n",
        "\n",
        "## Check Data Types\n",
        "print(patient_data.dtypes)\n",
        "\n",
        "## Confirm there are no missing values\n",
        "print(patient_data.isna().sum())\n",
        "\n",
        "print(patient_data.describe())\n",
        "\n",
        "## INITIAL NOTES:\n",
        "  # -- Years of Data: 1958 - 1969 \n",
        "  # -- Age Range: 30 - 83 w/ avg @ 52\n",
        "  # -- Survival Status: More likely to die in <= 5 years than not\n",
        "\n"
      ],
      "execution_count": 8,
      "outputs": [
        {
          "output_type": "stream",
          "text": [
            "(306, 4)\n",
            "age                        int64\n",
            "operation_year             int64\n",
            "positive_axillary_nodes    int64\n",
            "survival_status            int64\n",
            "dtype: object\n",
            "age                        0\n",
            "operation_year             0\n",
            "positive_axillary_nodes    0\n",
            "survival_status            0\n",
            "dtype: int64\n",
            "              age  operation_year  positive_axillary_nodes  survival_status\n",
            "count  306.000000      306.000000               306.000000       306.000000\n",
            "mean    52.457516       62.852941                 4.026144         1.264706\n",
            "std     10.803452        3.249405                 7.189654         0.441899\n",
            "min     30.000000       58.000000                 0.000000         1.000000\n",
            "25%     44.000000       60.000000                 0.000000         1.000000\n",
            "50%     52.000000       63.000000                 1.000000         1.000000\n",
            "75%     60.750000       65.750000                 4.000000         2.000000\n",
            "max     83.000000       69.000000                52.000000         2.000000\n"
          ],
          "name": "stdout"
        }
      ]
    },
    {
      "cell_type": "code",
      "metadata": {
        "id": "bFzBNatJr3ZV",
        "colab_type": "code",
        "colab": {
          "base_uri": "https://localhost:8080/",
          "height": 204
        },
        "outputId": "f3e73a36-0eda-45c6-8181-134f7fff7c97"
      },
      "source": [
        "# - Print the first 5 rows\n",
        "patient_data.head()"
      ],
      "execution_count": 9,
      "outputs": [
        {
          "output_type": "execute_result",
          "data": {
            "text/html": [
              "<div>\n",
              "<style scoped>\n",
              "    .dataframe tbody tr th:only-of-type {\n",
              "        vertical-align: middle;\n",
              "    }\n",
              "\n",
              "    .dataframe tbody tr th {\n",
              "        vertical-align: top;\n",
              "    }\n",
              "\n",
              "    .dataframe thead th {\n",
              "        text-align: right;\n",
              "    }\n",
              "</style>\n",
              "<table border=\"1\" class=\"dataframe\">\n",
              "  <thead>\n",
              "    <tr style=\"text-align: right;\">\n",
              "      <th></th>\n",
              "      <th>age</th>\n",
              "      <th>operation_year</th>\n",
              "      <th>positive_axillary_nodes</th>\n",
              "      <th>survival_status</th>\n",
              "    </tr>\n",
              "  </thead>\n",
              "  <tbody>\n",
              "    <tr>\n",
              "      <th>0</th>\n",
              "      <td>30</td>\n",
              "      <td>64</td>\n",
              "      <td>1</td>\n",
              "      <td>1</td>\n",
              "    </tr>\n",
              "    <tr>\n",
              "      <th>1</th>\n",
              "      <td>30</td>\n",
              "      <td>62</td>\n",
              "      <td>3</td>\n",
              "      <td>1</td>\n",
              "    </tr>\n",
              "    <tr>\n",
              "      <th>2</th>\n",
              "      <td>30</td>\n",
              "      <td>65</td>\n",
              "      <td>0</td>\n",
              "      <td>1</td>\n",
              "    </tr>\n",
              "    <tr>\n",
              "      <th>3</th>\n",
              "      <td>31</td>\n",
              "      <td>59</td>\n",
              "      <td>2</td>\n",
              "      <td>1</td>\n",
              "    </tr>\n",
              "    <tr>\n",
              "      <th>4</th>\n",
              "      <td>31</td>\n",
              "      <td>65</td>\n",
              "      <td>4</td>\n",
              "      <td>1</td>\n",
              "    </tr>\n",
              "  </tbody>\n",
              "</table>\n",
              "</div>"
            ],
            "text/plain": [
              "   age  operation_year  positive_axillary_nodes  survival_status\n",
              "0   30              64                        1                1\n",
              "1   30              62                        3                1\n",
              "2   30              65                        0                1\n",
              "3   31              59                        2                1\n",
              "4   31              65                        4                1"
            ]
          },
          "metadata": {
            "tags": []
          },
          "execution_count": 9
        }
      ]
    },
    {
      "cell_type": "markdown",
      "metadata": {
        "id": "G7rLytbrO38L",
        "colab_type": "text"
      },
      "source": [
        "## Part 2 - Examine the distribution and relationships of the features\n",
        "\n",
        "Explore the data - create at least *2* tables (can be summary statistics or crosstabulations) and *2* plots illustrating the nature of the data.\n",
        "\n",
        "This is open-ended, so to remind - first *complete* this task as a baseline, then go on to the remaining sections, and *then* as time allows revisit and explore further.\n",
        "\n",
        "Hint - you may need to bin some variables depending on your chosen tables/plots."
      ]
    },
    {
      "cell_type": "markdown",
      "metadata": {
        "id": "sq-6Fl_6sqoT",
        "colab_type": "text"
      },
      "source": [
        "## Part 2: Answers"
      ]
    },
    {
      "cell_type": "code",
      "metadata": {
        "id": "iycpXDhTsumR",
        "colab_type": "code",
        "colab": {
          "base_uri": "https://localhost:8080/",
          "height": 366
        },
        "outputId": "9493eb90-6682-4673-afe7-714a29164dd7"
      },
      "source": [
        "# 1 # - Initial Data Visualization\n",
        "\n",
        "patient_data.hist()"
      ],
      "execution_count": 10,
      "outputs": [
        {
          "output_type": "execute_result",
          "data": {
            "text/plain": [
              "array([[<matplotlib.axes._subplots.AxesSubplot object at 0x7f593a6e8278>,\n",
              "        <matplotlib.axes._subplots.AxesSubplot object at 0x7f593a6be400>],\n",
              "       [<matplotlib.axes._subplots.AxesSubplot object at 0x7f593a6e4940>,\n",
              "        <matplotlib.axes._subplots.AxesSubplot object at 0x7f593a68beb8>]],\n",
              "      dtype=object)"
            ]
          },
          "metadata": {
            "tags": []
          },
          "execution_count": 10
        },
        {
          "output_type": "display_data",
          "data": {
            "image/png": "[encoded data removed]",
            "text/plain": [
              "<Figure size 432x288 with 4 Axes>"
            ]
          },
          "metadata": {
            "tags": []
          }
        }
      ]
    },
    {
      "cell_type": "code",
      "metadata": {
        "id": "pFW5e_4YtYug",
        "colab_type": "code",
        "colab": {
          "base_uri": "https://localhost:8080/",
          "height": 303
        },
        "outputId": "14d71126-3484-4742-867c-866178aeeddf"
      },
      "source": [
        "# - Density Analysis\n",
        "print(patient_data['operation_year'].plot.density())\n",
        "print(patient_data['age'].plot.density())"
      ],
      "execution_count": 11,
      "outputs": [
        {
          "output_type": "stream",
          "text": [
            "AxesSubplot(0.125,0.125;0.775x0.755)\n",
            "AxesSubplot(0.125,0.125;0.775x0.755)\n"
          ],
          "name": "stdout"
        },
        {
          "output_type": "display_data",
          "data": {
            "image/png": "[encoded data removed]",
            "text/plain": [
              "<Figure size 432x288 with 1 Axes>"
            ]
          },
          "metadata": {
            "tags": []
          }
        }
      ]
    },
    {
      "cell_type": "code",
      "metadata": {
        "id": "CobvNDJy030C",
        "colab_type": "code",
        "colab": {
          "base_uri": "https://localhost:8080/",
          "height": 286
        },
        "outputId": "330f33da-ab3e-4957-dd5e-8269345ef821"
      },
      "source": [
        "print(patient_data['positive_axillary_nodes'].plot.density())"
      ],
      "execution_count": 12,
      "outputs": [
        {
          "output_type": "stream",
          "text": [
            "AxesSubplot(0.125,0.125;0.775x0.755)\n"
          ],
          "name": "stdout"
        },
        {
          "output_type": "display_data",
          "data": {
            "image/png": "[encoded data removed]",
            "text/plain": [
              "<Figure size 432x288 with 1 Axes>"
            ]
          },
          "metadata": {
            "tags": []
          }
        }
      ]
    },
    {
      "cell_type": "code",
      "metadata": {
        "id": "9UOOCeA1wl55",
        "colab_type": "code",
        "colab": {}
      },
      "source": [
        "# 2 # - Bin Data\n",
        "age_bins = pd.cut(patient_data['age'],5)\n",
        "year_bins = pd.cut(patient_data['operation_year'],5)\n",
        "axillary_node_bins = pd.cut(patient_data['positive_axillary_nodes'], 5)\n"
      ],
      "execution_count": 0,
      "outputs": []
    },
    {
      "cell_type": "code",
      "metadata": {
        "id": "TtoXArxoxXmz",
        "colab_type": "code",
        "colab": {
          "base_uri": "https://localhost:8080/",
          "height": 354
        },
        "outputId": "45233cdd-68c4-473e-c0ca-abe93454e39b"
      },
      "source": [
        "# - Visualize Data w/ data bins\n",
        "print(pd.crosstab(age_bins, patient_data['survival_status']))\n",
        "pd.crosstab(age_bins, patient_data['survival_status'], normalize='index')\n",
        "\n"
      ],
      "execution_count": 14,
      "outputs": [
        {
          "output_type": "stream",
          "text": [
            "survival_status   1   2\n",
            "age                    \n",
            "(29.947, 40.6]   39   4\n",
            "(40.6, 51.2]     68  31\n",
            "(51.2, 61.8]     69  27\n",
            "(61.8, 72.4]     43  16\n",
            "(72.4, 83.0]      6   3\n"
          ],
          "name": "stdout"
        },
        {
          "output_type": "execute_result",
          "data": {
            "text/html": [
              "<div>\n",
              "<style scoped>\n",
              "    .dataframe tbody tr th:only-of-type {\n",
              "        vertical-align: middle;\n",
              "    }\n",
              "\n",
              "    .dataframe tbody tr th {\n",
              "        vertical-align: top;\n",
              "    }\n",
              "\n",
              "    .dataframe thead th {\n",
              "        text-align: right;\n",
              "    }\n",
              "</style>\n",
              "<table border=\"1\" class=\"dataframe\">\n",
              "  <thead>\n",
              "    <tr style=\"text-align: right;\">\n",
              "      <th>survival_status</th>\n",
              "      <th>1</th>\n",
              "      <th>2</th>\n",
              "    </tr>\n",
              "    <tr>\n",
              "      <th>age</th>\n",
              "      <th></th>\n",
              "      <th></th>\n",
              "    </tr>\n",
              "  </thead>\n",
              "  <tbody>\n",
              "    <tr>\n",
              "      <th>(29.947, 40.6]</th>\n",
              "      <td>0.906977</td>\n",
              "      <td>0.093023</td>\n",
              "    </tr>\n",
              "    <tr>\n",
              "      <th>(40.6, 51.2]</th>\n",
              "      <td>0.686869</td>\n",
              "      <td>0.313131</td>\n",
              "    </tr>\n",
              "    <tr>\n",
              "      <th>(51.2, 61.8]</th>\n",
              "      <td>0.718750</td>\n",
              "      <td>0.281250</td>\n",
              "    </tr>\n",
              "    <tr>\n",
              "      <th>(61.8, 72.4]</th>\n",
              "      <td>0.728814</td>\n",
              "      <td>0.271186</td>\n",
              "    </tr>\n",
              "    <tr>\n",
              "      <th>(72.4, 83.0]</th>\n",
              "      <td>0.666667</td>\n",
              "      <td>0.333333</td>\n",
              "    </tr>\n",
              "  </tbody>\n",
              "</table>\n",
              "</div>"
            ],
            "text/plain": [
              "survival_status         1         2\n",
              "age                                \n",
              "(29.947, 40.6]   0.906977  0.093023\n",
              "(40.6, 51.2]     0.686869  0.313131\n",
              "(51.2, 61.8]     0.718750  0.281250\n",
              "(61.8, 72.4]     0.728814  0.271186\n",
              "(72.4, 83.0]     0.666667  0.333333"
            ]
          },
          "metadata": {
            "tags": []
          },
          "execution_count": 14
        }
      ]
    },
    {
      "cell_type": "code",
      "metadata": {
        "id": "pCcUsTLOyzZH",
        "colab_type": "code",
        "colab": {
          "base_uri": "https://localhost:8080/",
          "height": 354
        },
        "outputId": "07721b25-6636-496e-a7e5-4bc21eada378"
      },
      "source": [
        "print(pd.crosstab(year_bins, patient_data['survival_status']))\n",
        "pd.crosstab(year_bins, patient_data['survival_status'], normalize='index')"
      ],
      "execution_count": 15,
      "outputs": [
        {
          "output_type": "stream",
          "text": [
            "survival_status   1   2\n",
            "operation_year         \n",
            "(57.989, 60.2]   66  25\n",
            "(60.2, 62.4]     39  10\n",
            "(62.4, 64.6]     45  16\n",
            "(64.6, 66.8]     37  19\n",
            "(66.8, 69.0]     38  11\n"
          ],
          "name": "stdout"
        },
        {
          "output_type": "execute_result",
          "data": {
            "text/html": [
              "<div>\n",
              "<style scoped>\n",
              "    .dataframe tbody tr th:only-of-type {\n",
              "        vertical-align: middle;\n",
              "    }\n",
              "\n",
              "    .dataframe tbody tr th {\n",
              "        vertical-align: top;\n",
              "    }\n",
              "\n",
              "    .dataframe thead th {\n",
              "        text-align: right;\n",
              "    }\n",
              "</style>\n",
              "<table border=\"1\" class=\"dataframe\">\n",
              "  <thead>\n",
              "    <tr style=\"text-align: right;\">\n",
              "      <th>survival_status</th>\n",
              "      <th>1</th>\n",
              "      <th>2</th>\n",
              "    </tr>\n",
              "    <tr>\n",
              "      <th>operation_year</th>\n",
              "      <th></th>\n",
              "      <th></th>\n",
              "    </tr>\n",
              "  </thead>\n",
              "  <tbody>\n",
              "    <tr>\n",
              "      <th>(57.989, 60.2]</th>\n",
              "      <td>0.725275</td>\n",
              "      <td>0.274725</td>\n",
              "    </tr>\n",
              "    <tr>\n",
              "      <th>(60.2, 62.4]</th>\n",
              "      <td>0.795918</td>\n",
              "      <td>0.204082</td>\n",
              "    </tr>\n",
              "    <tr>\n",
              "      <th>(62.4, 64.6]</th>\n",
              "      <td>0.737705</td>\n",
              "      <td>0.262295</td>\n",
              "    </tr>\n",
              "    <tr>\n",
              "      <th>(64.6, 66.8]</th>\n",
              "      <td>0.660714</td>\n",
              "      <td>0.339286</td>\n",
              "    </tr>\n",
              "    <tr>\n",
              "      <th>(66.8, 69.0]</th>\n",
              "      <td>0.775510</td>\n",
              "      <td>0.224490</td>\n",
              "    </tr>\n",
              "  </tbody>\n",
              "</table>\n",
              "</div>"
            ],
            "text/plain": [
              "survival_status         1         2\n",
              "operation_year                     \n",
              "(57.989, 60.2]   0.725275  0.274725\n",
              "(60.2, 62.4]     0.795918  0.204082\n",
              "(62.4, 64.6]     0.737705  0.262295\n",
              "(64.6, 66.8]     0.660714  0.339286\n",
              "(66.8, 69.0]     0.775510  0.224490"
            ]
          },
          "metadata": {
            "tags": []
          },
          "execution_count": 15
        }
      ]
    },
    {
      "cell_type": "code",
      "metadata": {
        "id": "G12CXSu21CMv",
        "colab_type": "code",
        "colab": {
          "base_uri": "https://localhost:8080/",
          "height": 386
        },
        "outputId": "fcfe62e2-27f2-4747-da6d-58a9233cff3a"
      },
      "source": [
        "sns.relplot(x='operation_year', y='positive_axillary_nodes', hue='survival_status', data=patient_data)\n",
        "\n",
        "# ?? # \n",
        "# -- Documentation: https://seaborn.pydata.org/generated/seaborn.relplot.html\n",
        "# -- ^ states that the 'hue' argument can be a categorical value\n",
        "## -- see [7] where I am setting the data type for 'sutvival_status'\n",
        "# -- given that 'survival_status is either a 1 or 2 why doed the label have a 0'"
      ],
      "execution_count": 16,
      "outputs": [
        {
          "output_type": "execute_result",
          "data": {
            "text/plain": [
              "<seaborn.axisgrid.FacetGrid at 0x7f5937d93470>"
            ]
          },
          "metadata": {
            "tags": []
          },
          "execution_count": 16
        },
        {
          "output_type": "display_data",
          "data": {
            "image/png": "[encoded data removed]",
            "text/plain": [
              "<Figure size 471.125x360 with 1 Axes>"
            ]
          },
          "metadata": {
            "tags": []
          }
        }
      ]
    },
    {
      "cell_type": "code",
      "metadata": {
        "id": "erYfyYW25zul",
        "colab_type": "code",
        "colab": {
          "base_uri": "https://localhost:8080/",
          "height": 386
        },
        "outputId": "47254e6f-98f4-4164-829b-785b3e4d37df"
      },
      "source": [
        "sns.relplot(x='age', y='positive_axillary_nodes', hue='survival_status', data=patient_data)"
      ],
      "execution_count": 17,
      "outputs": [
        {
          "output_type": "execute_result",
          "data": {
            "text/plain": [
              "<seaborn.axisgrid.FacetGrid at 0x7f5937cfb2e8>"
            ]
          },
          "metadata": {
            "tags": []
          },
          "execution_count": 17
        },
        {
          "output_type": "display_data",
          "data": {
            "image/png": "[encoded data removed]",
            "text/plain": [
              "<Figure size 471.125x360 with 1 Axes>"
            ]
          },
          "metadata": {
            "tags": []
          }
        }
      ]
    },
    {
      "cell_type": "code",
      "metadata": {
        "id": "vL1YVv4w7ccl",
        "colab_type": "code",
        "colab": {
          "base_uri": "https://localhost:8080/",
          "height": 386
        },
        "outputId": "4712d4df-a382-4b42-fca6-232ab8b43651"
      },
      "source": [
        "sns.lmplot(x='operation_year', y='age', hue='survival_status', data=patient_data)"
      ],
      "execution_count": 18,
      "outputs": [
        {
          "output_type": "execute_result",
          "data": {
            "text/plain": [
              "<seaborn.axisgrid.FacetGrid at 0x7f5937be3198>"
            ]
          },
          "metadata": {
            "tags": []
          },
          "execution_count": 18
        },
        {
          "output_type": "display_data",
          "data": {
            "image/png": "[encoded data removed]",
            "text/plain": [
              "<Figure size 443.125x360 with 1 Axes>"
            ]
          },
          "metadata": {
            "tags": []
          }
        }
      ]
    },
    {
      "cell_type": "code",
      "metadata": {
        "id": "uDq5g4-Z6auq",
        "colab_type": "code",
        "colab": {
          "base_uri": "https://localhost:8080/",
          "height": 300
        },
        "outputId": "9a6afddb-03d2-4df6-d2aa-a3fee44c6378"
      },
      "source": [
        "sns.boxplot(x=age_bins, y='operation_year', hue='survival_status', data=patient_data)"
      ],
      "execution_count": 19,
      "outputs": [
        {
          "output_type": "execute_result",
          "data": {
            "text/plain": [
              "<matplotlib.axes._subplots.AxesSubplot at 0x7f5937ba1f98>"
            ]
          },
          "metadata": {
            "tags": []
          },
          "execution_count": 19
        },
        {
          "output_type": "display_data",
          "data": {
            "image/png": "[encoded data removed]",
            "text/plain": [
              "<Figure size 432x288 with 1 Axes>"
            ]
          },
          "metadata": {
            "tags": []
          }
        }
      ]
    },
    {
      "cell_type": "code",
      "metadata": {
        "id": "IAkllgCIFVj0",
        "colab_type": "code",
        "colab": {}
      },
      "source": [
        "# TODO"
      ],
      "execution_count": 0,
      "outputs": []
    },
    {
      "cell_type": "markdown",
      "metadata": {
        "id": "ZM8JckA2bgnp",
        "colab_type": "text"
      },
      "source": [
        "## Part 3 - Analysis and Interpretation\n",
        "\n",
        "Now that you've looked at the data, answer the following questions:\n",
        "\n",
        "- What is at least one feature that looks to have a positive relationship with survival?\n",
        "- What is at least one feature that looks to have a negative relationship with survival?\n",
        "- How are those two features related with each other, and what might that mean?\n",
        "\n",
        "Answer with text, but feel free to intersperse example code/results or refer to it from earlier."
      ]
    },
    {
      "cell_type": "markdown",
      "metadata": {
        "id": "pXn13a5j6ug4",
        "colab_type": "text"
      },
      "source": [
        "# Part 3: Answers\n",
        "\n",
        "1) The number of positive auxillary nodes is positivly correlated with survival status --> more nodes = higher chance of survival\n",
        "\n",
        "2) Age especially 60+ / 65+ seems to have a negative correlation with survival status\n",
        "\n",
        "3) The majority of positive axillary nodes detected through the study are concentrated between 40 - 65."
      ]
    }
  ]
}